{
 "cells": [
  {
   "cell_type": "code",
   "execution_count": 1,
   "metadata": {},
   "outputs": [],
   "source": [
    "import numpy as np\n",
    "import pandas as pd\n",
    "import matplotlib.pyplot as plt\n",
    "from sklearn.model_selection import GridSearchCV\n",
    "import xgboost as xgb\n"
   ]
  },
  {
   "cell_type": "markdown",
   "metadata": {},
   "source": [
    "Combine The Features and the labels"
   ]
  },
  {
   "cell_type": "code",
   "execution_count": 2,
   "metadata": {},
   "outputs": [],
   "source": [
    "###Merged the features with the labels from \"checker\" \n",
    "###If checker=1, this is a good structure###\n",
    "###If checker=0, this structure was removed###\n",
    "\n",
    "\n",
    "df = pd.read_csv('Bare_MOF_PSED_Labels_infeasible_Oxo.csv')\n",
    "del df['E_MOF (eV)']\n",
    "del df['E_MOF_O (eV)']\n",
    "del df['E_MOF_OH (eV)']\n",
    "\n",
    "df_features = pd.read_csv('Features_RACS.csv')\n",
    "\n",
    "merged_df = pd.merge(df_features, df[['MOF Name', 'Metal_index', 'checker']], on=['MOF Name', 'Metal_index'], how='inner')\n",
    "\n",
    "merged_df.to_csv('merged_df_out.csv')\n",
    "\n",
    "#df_col=merged_df.iloc[:, 4:-2]\n",
    "#print(df_col)"
   ]
  },
  {
   "cell_type": "markdown",
   "metadata": {},
   "source": [
    "xgboost"
   ]
  },
  {
   "cell_type": "code",
   "execution_count": 8,
   "metadata": {},
   "outputs": [
    {
     "name": "stdout",
     "output_type": "stream",
     "text": [
      "Test Accuracy: 0.80\n",
      "CV Accuracy: 0.81 (+/- 0.03)\n"
     ]
    }
   ],
   "source": [
    "import xgboost as xgb\n",
    "from sklearn.model_selection import train_test_split, cross_val_score, StratifiedKFold\n",
    "from sklearn.metrics import accuracy_score\n",
    "from sklearn.impute import SimpleImputer\n",
    "\n",
    "#use data from pandas\n",
    "df=pd.read_csv('merged_df_out.csv')\n",
    "\n",
    "#use imputer\n",
    "imputer = SimpleImputer(strategy='mean')\n",
    "feature_cols = df.columns[5:-2]\n",
    "df[feature_cols] = imputer.fit_transform(df[feature_cols].values)\n",
    "\n",
    "X=df.iloc[:, 5:-2]\n",
    "y=df.iloc[:, -1]\n",
    "\n",
    "# Prepare data\n",
    "X_train, X_test, y_train, y_test = train_test_split(X, y, test_size=0.8, random_state=42)\n",
    "# Initialize and train classifier\n",
    "xgb_classifier = xgb.XGBClassifier(objective='binary:logistic', n_estimators=200, learning_rate=0.1, max_depth=3, seed=42, subsample=1.0)\n",
    "xgb_classifier.fit(X_train, y_train)\n",
    "# Evaluate classifier\n",
    "y_pred = xgb_classifier.predict(X_test)\n",
    "accuracy = accuracy_score(y_test, y_pred)\n",
    "print(f\"Test Accuracy: {accuracy:.2f}\")\n",
    "# Cross-validation\n",
    "kfold = StratifiedKFold(n_splits=5, shuffle=True, random_state=42)\n",
    "cv_results = cross_val_score(xgb_classifier, X, y, cv=kfold, scoring='accuracy')\n",
    "print(f\"CV Accuracy: {cv_results.mean():.2f} (+/- {cv_results.std() * 2:.2f})\")"
   ]
  },
  {
   "cell_type": "code",
   "execution_count": 9,
   "metadata": {},
   "outputs": [
    {
     "name": "stdout",
     "output_type": "stream",
     "text": [
      "Fitting 3 folds for each of 81 candidates, totalling 243 fits\n",
      "Best parameters found: {'learning_rate': 0.01, 'max_depth': 3, 'n_estimators': 100, 'subsample': 1.0}\n",
      "Best accuracy found: 0.79\n"
     ]
    }
   ],
   "source": [
    "# Define the model\n",
    "xgb_model = xgb.XGBClassifier()\n",
    "# Define parameters to search\n",
    "params = {\n",
    "    'max_depth': [3, 5, 7],\n",
    "    'learning_rate': [0.01, 0.1, 0.2],\n",
    "    'n_estimators': [100, 200, 300],\n",
    "    'subsample': [0.8, 0.9, 1.0]\n",
    "}\n",
    "# Set up the grid search\n",
    "grid_search = GridSearchCV(estimator=xgb_model, param_grid=params, scoring='accuracy', cv=3, verbose=1)\n",
    "# Fit grid search\n",
    "best_model = grid_search.fit(X_train, y_train)\n",
    "# Print best parameters and best score\n",
    "print(f\"Best parameters found: {best_model.best_params_}\")\n",
    "print(f\"Best accuracy found: {best_model.best_score_:.2f}\") \n"
   ]
  },
  {
   "cell_type": "markdown",
   "metadata": {},
   "source": [
    "Random Forest Model"
   ]
  },
  {
   "cell_type": "code",
   "execution_count": 10,
   "metadata": {},
   "outputs": [
    {
     "name": "stdout",
     "output_type": "stream",
     "text": [
      "Accuracy: 0.81\n"
     ]
    }
   ],
   "source": [
    "from sklearn.model_selection import train_test_split\n",
    "X_train, X_test, y_train, y_test = train_test_split(X, y, test_size=0.8, random_state=42)\n",
    "from sklearn.ensemble import RandomForestClassifier\n",
    "from sklearn.metrics import accuracy_score\n",
    "rf_classifier = RandomForestClassifier(n_estimators=200, random_state=42,min_samples_leaf=1,min_samples_split=5)\n",
    "rf_classifier.fit(X_train, y_train)\n",
    "y_pred = rf_classifier.predict(X_test)\n",
    "accuracy = accuracy_score(y_test, y_pred)\n",
    "print(f\"Accuracy: {accuracy:.2f}\")"
   ]
  },
  {
   "cell_type": "markdown",
   "metadata": {},
   "source": [
    "Random Forest Grid Search"
   ]
  },
  {
   "cell_type": "code",
   "execution_count": 11,
   "metadata": {},
   "outputs": [
    {
     "name": "stdout",
     "output_type": "stream",
     "text": [
      "Fitting 3 folds for each of 9 candidates, totalling 27 fits\n",
      "Best parameters found: {'max_depth': 3, 'n_estimators': 100}\n",
      "Best accuracy found: 0.80\n"
     ]
    }
   ],
   "source": [
    "# Define the model\n",
    "RF_model = RandomForestClassifier()\n",
    "# Define parameters to search\n",
    "params = {\n",
    "    'max_depth': [3, 5, 7],\n",
    "    'n_estimators': [100, 200, 300],\n",
    "}\n",
    "# Set up the grid search\n",
    "grid_search = GridSearchCV(estimator=RF_model, param_grid=params, scoring='accuracy', cv=3, verbose=1)\n",
    "# Fit grid search\n",
    "best_model = grid_search.fit(X_train, y_train)\n",
    "# Print best parameters and best score\n",
    "print(f\"Best parameters found: {best_model.best_params_}\")\n",
    "print(f\"Best accuracy found: {best_model.best_score_:.2f}\") "
   ]
  },
  {
   "cell_type": "code",
   "execution_count": null,
   "metadata": {},
   "outputs": [],
   "source": []
  }
 ],
 "metadata": {
  "kernelspec": {
   "display_name": "research",
   "language": "python",
   "name": "python3"
  },
  "language_info": {
   "codemirror_mode": {
    "name": "ipython",
    "version": 3
   },
   "file_extension": ".py",
   "mimetype": "text/x-python",
   "name": "python",
   "nbconvert_exporter": "python",
   "pygments_lexer": "ipython3",
   "version": "3.11.5"
  }
 },
 "nbformat": 4,
 "nbformat_minor": 2
}
