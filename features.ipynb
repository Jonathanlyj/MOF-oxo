{
 "cells": [
  {
   "cell_type": "code",
   "execution_count": 2,
   "metadata": {},
   "outputs": [],
   "source": [
    "import pandas as pd\n",
    "import os\n",
    "import numpy as np\n",
    "from sklearn.preprocessing import LabelEncoder\n",
    "from sklearn.impute import SimpleImputer\n",
    "from sklearn.preprocessing import OneHotEncoder\n",
    "import re"
   ]
  },
  {
   "cell_type": "markdown",
   "metadata": {},
   "source": [
    "### Generate ID prop csv (Optional)\n"
   ]
  },
  {
   "cell_type": "code",
   "execution_count": 3,
   "metadata": {},
   "outputs": [],
   "source": [
    "# id_prop dataset\n",
    "prop = \"oxo\"\n",
    "run_idx = 1\n",
    "first_row = False\n",
    "prop_map = {\"oxo\":\"Oxo Formation Energy\", \"h\": \"Hydrogen Affinity Energy\"}\n",
    "df_label = pd.read_csv(\"/scratch/yll6162/MOF-oxo/labels/Combined_Energies_Removed_Infeasible_Out.csv\", index_col = 0)\n",
    "if first_row:\n",
    "    df_label = df_label[df_label.Metal.isin(['Ti', 'V', 'Cr', 'Mn', 'Fe', 'Co', 'Ni', 'Cu', 'Zn'])]\n",
    "df_label['sample'] = df_label.MOF+\".cif\"\n",
    "df_label = df_label[[\"sample\", \"Site\", prop_map[prop]]]\n",
    "if first_row:\n",
    "    df_label.to_csv(f\"/scratch/yll6162/MOF-oxo/MOFs_oms/id_prop_{prop}_{run_idx}_first_row.csv\", index=None)\n",
    "df_label.to_csv(f\"/scratch/yll6162/MOF-oxo/MOFs_oms/id_prop_{prop}_{run_idx}.csv\", index=None)"
   ]
  },
  {
   "cell_type": "markdown",
   "metadata": {},
   "source": [
    "### Select RAC features\n"
   ]
  },
  {
   "cell_type": "code",
   "execution_count": 9,
   "metadata": {},
   "outputs": [
    {
     "name": "stderr",
     "output_type": "stream",
     "text": [
      "/scratch/yll6162/miniconda3/envs/mof/lib/python3.9/site-packages/sklearn/preprocessing/_encoders.py:808: FutureWarning: `sparse` was renamed to `sparse_output` in version 1.2 and will be removed in 1.4. `sparse_output` is ignored unless you leave `sparse` to its default value.\n",
      "  warnings.warn(\n",
      "/tmp/ipykernel_33171/3306184906.py:22: PerformanceWarning: DataFrame is highly fragmented.  This is usually the result of calling `frame.insert` many times, which has poor performance.  Consider joining all columns at once using pd.concat(axis=1) instead. To get a de-fragmented frame, use `newframe = frame.copy()`\n",
      "  df_fea['sample'] = df_fea['MOF Name'] + '.cif'\n"
     ]
    }
   ],
   "source": [
    "tl = False\n",
    "\n",
    "folder_path = './mof_features'\n",
    "df_fea = pd.read_csv(os.path.join(folder_path, 'Features_RACS.csv'), index_col=0)\n",
    "\n",
    "\n",
    "# df_fea.values\n",
    "label_encoder = LabelEncoder()\n",
    "# if 'compound possible' in df_fea.columns:\n",
    "#     df_fea['compound possible'] = df_fea['compound possible'].replace({'False': 0, 'True': 1, False: 0, True: 1, '0.0': 0}).astype(float)\n",
    "# for str_label in ['HOMO_character', 'HOMO_element', 'LUMO_character', 'LUMO_element']:\n",
    "#     if str_label in df_fea.columns:\n",
    "#         df_fea[str_label] = label_encoder.fit_transform(df_fea[str_label].astype(str))\n",
    "encoder = OneHotEncoder(sparse=False)\n",
    "encoded_feature = encoder.fit_transform(df_fea[['Metal']])\n",
    "df_fea = df_fea.reset_index(drop=True)\n",
    "df_fea = pd.concat([df_fea, pd.DataFrame(encoded_feature, columns=encoder.get_feature_names_out(['Metal']))], axis=1)\n",
    "df_fea = df_fea.drop(columns = ['Metal'])\n",
    "imputer = SimpleImputer(strategy='mean')\n",
    "feature_cols = df_fea.columns[2:]\n",
    "df_fea[feature_cols] = imputer.fit_transform(df_fea[feature_cols].values)\n",
    "df_fea['sample'] = df_fea['MOF Name'] + '.cif'\n",
    "filename = 'racs_all_clean.csv'\n",
    "df_fea.to_csv(os.path.join(folder_path, filename))\n",
    "# df_fea[['HOMO_character', 'HOMO_element', 'LUMO_character', 'LUMO_element']]\n"
   ]
  },
  {
   "cell_type": "markdown",
   "metadata": {},
   "source": [
    "### Combine with ALIGNN Embeddings (Optional)\n"
   ]
  },
  {
   "cell_type": "code",
   "execution_count": 10,
   "metadata": {},
   "outputs": [],
   "source": [
    "tl = True\n",
    "# run = 'mof_dband_embed'\n",
    "# run = 'mof_form_e_embed'\n",
    "run = 'mof_bandgap_embed'\n",
    "# run = 'mof_ehull_embed'\n",
    "# run = 'mof_opt_bandgap_embed'\n",
    "# embed_filepath = f\"/scratch/yll6162/ALIGNNTL/examples/{run}/x+y+z/data0.csv\"\n",
    "embed_filepath = f\"/data/yll6162/mof/{run}/x+y+z/data0.csv\"\n",
    "df_embed = pd.read_csv(embed_filepath)\n",
    "df_embed = df_embed.drop_duplicates(subset = ['id'])\n",
    "df_fea_all = df_fea.merge(df_embed, how='left', left_on = \"MOF Name\", right_on = \"id\").drop(columns = ['oxo_1','id','full'], errors='ignore')\n",
    "df_fea = df_fea_all\n"
   ]
  },
  {
   "cell_type": "markdown",
   "metadata": {},
   "source": [
    "### Feature Scale"
   ]
  },
  {
   "cell_type": "code",
   "execution_count": 11,
   "metadata": {},
   "outputs": [],
   "source": [
    "from sklearn.preprocessing import StandardScaler\n",
    "\n",
    "racs_col = [col for col in df_fea.columns if col.startswith(\"racs_\")]\n",
    "embed_cols = [str(i) for i in range(768)]\n",
    "scaler_A = StandardScaler()\n",
    "df_fea[racs_col] = scaler_A.fit_transform(df_fea[racs_col].values)\n",
    "# if embed_cols:\n",
    "#     scaler_B = StandardScaler()\n",
    "#     df_fea[embed_cols] = scaler_B.fit_transform(df_fea[embed_cols].values)"
   ]
  },
  {
   "cell_type": "markdown",
   "metadata": {},
   "source": [
    "### Generate Train Dataset"
   ]
  },
  {
   "cell_type": "code",
   "execution_count": 12,
   "metadata": {},
   "outputs": [
    {
     "name": "stderr",
     "output_type": "stream",
     "text": [
      "/tmp/ipykernel_33171/2118878175.py:18: PerformanceWarning: DataFrame is highly fragmented.  This is usually the result of calling `frame.insert` many times, which has poor performance.  Consider joining all columns at once using pd.concat(axis=1) instead. To get a de-fragmented frame, use `newframe = frame.copy()`\n",
      "  df_sample['ids'] = df_sample['sample'] + '_' + df_sample['Site'].astype(str)\n"
     ]
    }
   ],
   "source": [
    "# prop = 'Oxo Formation Energy'\n",
    "first_row = True\n",
    "prop = 'Hydrogen Affinity Energy'\n",
    "output_dir = './data/'\n",
    "query_idx = 1\n",
    "# df_qmof = pd.read_csv(\"./labels/qmofruns_2_suffled.csv\", index_col = 0)\n",
    "df_qmof = pd.read_csv(\"/scratch/yll6162/MOF-oxo/labels/Combined_Energies_Removed_Infeasible_Out.csv\", index_col = 0)\n",
    "if first_row:\n",
    "    df_qmof = df_qmof[df_qmof.Metal.isin(['Ti', 'V', 'Cr', 'Mn', 'Fe', 'Co', 'Ni', 'Cu', 'Zn'])]\n",
    "df_qmof['sample'] = df_qmof.MOF + '.cif'\n",
    "\n",
    "df_qmof['prop'] = df_qmof[prop]\n",
    "df_qmof = df_qmof[['sample', 'Site', prop]]\n",
    "\n",
    "df_fea['sample'] = df_fea['MOF Name'] + '.cif'\n",
    "\n",
    "df_sample = df_qmof.merge(df_fea, how='inner', left_on=['sample', 'Site'], right_on = ['sample','Metal_index'])\n",
    "df_sample['ids'] = df_sample['sample'] + '_' + df_sample['Site'].astype(str)\n",
    "df_sample = df_sample.drop(columns = ['sample', 'Site', 'MOF Name', 'Metal_index'])\n",
    "df_sample = df_sample.assign(**{prop: df_sample.pop(prop)})\n",
    "df_sample = df_sample.assign(**{'ids': df_sample.pop('ids')})\n",
    "if tl:\n",
    "    filename = f\"query_{query_idx}_{run}_{prop}\"\n",
    "    if first_row:\n",
    "        filename += \"_first_row\"\n",
    "    df_sample.to_csv(os.path.join(output_dir, filename + \".csv\"), index=False)\n",
    "else:\n",
    "    filename = f\"query_{query_idx}_racs_{prop}\"\n",
    "    if first_row:\n",
    "        filename += \"_first_row\"\n",
    "    df_sample.to_csv(os.path.join(output_dir, filename + \".csv\"), index=False)"
   ]
  }
 ],
 "metadata": {
  "kernelspec": {
   "display_name": "mof",
   "language": "python",
   "name": "python3"
  },
  "language_info": {
   "codemirror_mode": {
    "name": "ipython",
    "version": 3
   },
   "file_extension": ".py",
   "mimetype": "text/x-python",
   "name": "python",
   "nbconvert_exporter": "python",
   "pygments_lexer": "ipython3",
   "version": "3.9.17"
  }
 },
 "nbformat": 4,
 "nbformat_minor": 2
}
